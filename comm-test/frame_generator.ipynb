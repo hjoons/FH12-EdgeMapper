{
 "cells": [
  {
   "cell_type": "code",
   "execution_count": 7,
   "metadata": {},
   "outputs": [
    {
     "ename": "ModuleNotFoundError",
     "evalue": "No module named 'cv'",
     "output_type": "error",
     "traceback": [
      "\u001b[0;31m---------------------------------------------------------------------------\u001b[0m",
      "\u001b[0;31mModuleNotFoundError\u001b[0m                       Traceback (most recent call last)",
      "Cell \u001b[0;32mIn[7], line 1\u001b[0m\n\u001b[0;32m----> 1\u001b[0m \u001b[39mimport\u001b[39;00m \u001b[39mcv\u001b[39;00m \u001b[39mas\u001b[39;00m \u001b[39mmkv_reader\u001b[39;00m\n\u001b[1;32m      2\u001b[0m \u001b[39mimport\u001b[39;00m \u001b[39mmatplotlib\u001b[39;00m\u001b[39m.\u001b[39;00m\u001b[39mpyplot\u001b[39;00m \u001b[39mas\u001b[39;00m \u001b[39mplt\u001b[39;00m\n\u001b[1;32m      3\u001b[0m \u001b[39mfrom\u001b[39;00m \u001b[39mmatplotlib\u001b[39;00m \u001b[39mimport\u001b[39;00m image\n",
      "\u001b[0;31mModuleNotFoundError\u001b[0m: No module named 'cv'"
     ]
    }
   ],
   "source": [
    "import cv as mkv_reader\n",
    "import matplotlib.pyplot as plt\n",
    "from matplotlib import image\n",
    "import torchvision.transforms as transforms\n",
    "from PIL import Image\n",
    "import os"
   ]
  },
  {
   "cell_type": "code",
   "execution_count": 5,
   "metadata": {},
   "outputs": [
    {
     "ename": "ModuleNotFoundError",
     "evalue": "No module named 'cv2'",
     "output_type": "error",
     "traceback": [
      "\u001b[0;31m---------------------------------------------------------------------------\u001b[0m",
      "\u001b[0;31mModuleNotFoundError\u001b[0m                       Traceback (most recent call last)",
      "Cell \u001b[0;32mIn[5], line 1\u001b[0m\n\u001b[0;32m----> 1\u001b[0m \u001b[39mimport\u001b[39;00m \u001b[39mcv2\u001b[39;00m\n\u001b[1;32m      2\u001b[0m \u001b[39mimport\u001b[39;00m \u001b[39mpyk4a\u001b[39;00m\n\u001b[1;32m      3\u001b[0m \u001b[39mimport\u001b[39;00m \u001b[39mpyk4a\u001b[39;00m\u001b[39m.\u001b[39;00m\u001b[39mpyk4a_playback\u001b[39;00m \u001b[39mas\u001b[39;00m \u001b[39mpyk4a_playback\u001b[39;00m\n",
      "\u001b[0;31mModuleNotFoundError\u001b[0m: No module named 'cv2'"
     ]
    }
   ],
   "source": [
    "import cv2\n",
    "import pyk4a\n",
    "import pyk4a.pyk4a_playback as pyk4a_playback\n",
    "import numpy as np"
   ]
  },
  {
   "cell_type": "code",
   "execution_count": null,
   "metadata": {},
   "outputs": [],
   "source": [
    "# Function to display depth map\n",
    "def display_depth_map(depth_frame):\n",
    "    # Convert the depth frame to a numpy array\n",
    "    depth_data = depth_frame.data\n",
    "    depth_data = depth_data.reshape((depth_frame.height, depth_frame.width))\n",
    "    \n",
    "    # Normalize depth values for visualization\n",
    "    depth_data = (depth_data / 4096.0 * 255).astype(np.uint8)\n",
    "    \n",
    "    # Display the depth map\n",
    "    cv2.imshow(\"Depth Map\", depth_data)\n",
    "    cv2.waitKey(0)\n",
    "\n",
    "# Load an MKV file\n",
    "if os.path.exist('/Users/chloetang/Documents/School/SeniorDesign/ecj1204_2023-11-7.mkv'):\n",
    "    mkv_file = '/Users/chloetang/Documents/School/SeniorDesign/ecj1204_2023-11-7.mkv'\n",
    "else:\n",
    "    print(\"That path doesn't exist bruh lol\")\n",
    "    exit()\n",
    "\n",
    "with pyk4a_playback.PyK4APlayback(mkv_file) as playback:\n",
    "    while True:\n",
    "        # Read a capture frame\n",
    "        capture = playback.get_next_capture()\n",
    "        if not capture:\n",
    "            break\n",
    "\n",
    "        # Get the color and depth frames\n",
    "        color_frame = capture.color\n",
    "        depth_frame = capture.depth\n",
    "\n",
    "        # Display the color frame\n",
    "        cv2.imshow(\"Color Frame\", color_frame.data)\n",
    "\n",
    "        # Check if it's an Azure Kinect recording (depth frame is available)\n",
    "        if depth_frame:\n",
    "            display_depth_map(depth_frame)\n",
    "\n",
    "        # Exit on key press (e.g., 'q')\n",
    "        if cv2.waitKey(1) & 0xFF == ord('q'):\n",
    "            break\n",
    "\n",
    "# Release OpenCV windows\n",
    "cv2.destroyAllWindows()\n"
   ]
  },
  {
   "cell_type": "code",
   "execution_count": null,
   "metadata": {},
   "outputs": [],
   "source": [
    "# 1. Open directory with recording \n",
    "# 2. Grab Frame \n",
    "# 2.5. Get RBG and Depth Image from frame\n",
    "# 3. Crop images to align in terms of dimension\n",
    "# 4. plot\n",
    "# 5. make DataLoader"
   ]
  },
  {
   "cell_type": "code",
   "execution_count": null,
   "metadata": {},
   "outputs": [],
   "source": [
    "cwd = os.getcwd()\n",
    "\n",
    "FILES = [file for file in os.listdir(cwd) if file.endswith(\".mkv\")]\n",
    "for video_file in FILES:\n",
    "    if not os.path.exists(os.path.join(cwd, video_file.rsplit('.',1)[0])):\n",
    "        video_expander(video_file)\n",
    "    else:\n",
    "        print(\"{} has already been extracted\".format(video_file))\n",
    "\n"
   ]
  }
 ],
 "metadata": {
  "kernelspec": {
   "display_name": "Python 3.11 (tensorflow)",
   "language": "python",
   "name": "tensorflow"
  },
  "language_info": {
   "codemirror_mode": {
    "name": "ipython",
    "version": 3
   },
   "file_extension": ".py",
   "mimetype": "text/x-python",
   "name": "python",
   "nbconvert_exporter": "python",
   "pygments_lexer": "ipython3",
   "version": "3.10.10"
  },
  "orig_nbformat": 4
 },
 "nbformat": 4,
 "nbformat_minor": 2
}
