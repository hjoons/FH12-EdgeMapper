{
 "cells": [
  {
   "cell_type": "code",
   "execution_count": 8,
   "metadata": {},
   "outputs": [
    {
     "ename": "KeyError",
     "evalue": "'nyu2_data/data/nyu2_test.csv'",
     "output_type": "error",
     "traceback": [
      "\u001b[1;31m---------------------------------------------------------------------------\u001b[0m",
      "\u001b[1;31mKeyError\u001b[0m                                  Traceback (most recent call last)",
      "\u001b[1;32mc:\\Users\\hyunj\\OneDrive\\Desktop\\Repos\\EdgeMapper\\FH12-EdgeMapper\\unet\\refactoring.ipynb Cell 1\u001b[0m line \u001b[0;36m2\n\u001b[0;32m     <a href='vscode-notebook-cell:/c%3A/Users/hyunj/OneDrive/Desktop/Repos/EdgeMapper/FH12-EdgeMapper/unet/refactoring.ipynb#W0sZmlsZQ%3D%3D?line=16'>17</a>\u001b[0m     test_csv \u001b[39m=\u001b[39m pd\u001b[39m.\u001b[39mread_csv(io\u001b[39m.\u001b[39mTextIOWrapper(test_csv_file))    \n\u001b[0;32m     <a href='vscode-notebook-cell:/c%3A/Users/hyunj/OneDrive/Desktop/Repos/EdgeMapper/FH12-EdgeMapper/unet/refactoring.ipynb#W0sZmlsZQ%3D%3D?line=18'>19</a>\u001b[0m data \u001b[39m=\u001b[39m {name: zip_ref\u001b[39m.\u001b[39mread(name) \u001b[39mfor\u001b[39;00m name \u001b[39min\u001b[39;00m zip_ref\u001b[39m.\u001b[39mnamelist()}\n\u001b[0;32m     <a href='vscode-notebook-cell:/c%3A/Users/hyunj/OneDrive/Desktop/Repos/EdgeMapper/FH12-EdgeMapper/unet/refactoring.ipynb#W0sZmlsZQ%3D%3D?line=20'>21</a>\u001b[0m nyu_train \u001b[39m=\u001b[39m \u001b[39mlist\u001b[39m(\n\u001b[0;32m     <a href='vscode-notebook-cell:/c%3A/Users/hyunj/OneDrive/Desktop/Repos/EdgeMapper/FH12-EdgeMapper/unet/refactoring.ipynb#W0sZmlsZQ%3D%3D?line=21'>22</a>\u001b[0m     (\n\u001b[0;32m     <a href='vscode-notebook-cell:/c%3A/Users/hyunj/OneDrive/Desktop/Repos/EdgeMapper/FH12-EdgeMapper/unet/refactoring.ipynb#W0sZmlsZQ%3D%3D?line=22'>23</a>\u001b[0m         row\u001b[39m.\u001b[39msplit(\u001b[39m\"\u001b[39m\u001b[39m,\u001b[39m\u001b[39m\"\u001b[39m)\n\u001b[1;32m---> <a href='vscode-notebook-cell:/c%3A/Users/hyunj/OneDrive/Desktop/Repos/EdgeMapper/FH12-EdgeMapper/unet/refactoring.ipynb#W0sZmlsZQ%3D%3D?line=23'>24</a>\u001b[0m         \u001b[39mfor\u001b[39;00m row \u001b[39min\u001b[39;00m (data[\u001b[39mf\u001b[39;49m\u001b[39m\"\u001b[39;49m\u001b[39mnyu2_data/data/nyu2_\u001b[39;49m\u001b[39m{\u001b[39;49;00mtrain_test\u001b[39m}\u001b[39;49;00m\u001b[39m.csv\u001b[39;49m\u001b[39m\"\u001b[39;49m])\u001b[39m.\u001b[39mdecode(\u001b[39m\"\u001b[39m\u001b[39mutf-8\u001b[39m\u001b[39m\"\u001b[39m)\u001b[39m.\u001b[39msplit(\u001b[39m\"\u001b[39m\u001b[39m\\n\u001b[39;00m\u001b[39m\"\u001b[39m)\n\u001b[0;32m     <a href='vscode-notebook-cell:/c%3A/Users/hyunj/OneDrive/Desktop/Repos/EdgeMapper/FH12-EdgeMapper/unet/refactoring.ipynb#W0sZmlsZQ%3D%3D?line=24'>25</a>\u001b[0m         \u001b[39mif\u001b[39;00m \u001b[39mlen\u001b[39m(row) \u001b[39m>\u001b[39m \u001b[39m0\u001b[39m\n\u001b[0;32m     <a href='vscode-notebook-cell:/c%3A/Users/hyunj/OneDrive/Desktop/Repos/EdgeMapper/FH12-EdgeMapper/unet/refactoring.ipynb#W0sZmlsZQ%3D%3D?line=25'>26</a>\u001b[0m     )\n\u001b[0;32m     <a href='vscode-notebook-cell:/c%3A/Users/hyunj/OneDrive/Desktop/Repos/EdgeMapper/FH12-EdgeMapper/unet/refactoring.ipynb#W0sZmlsZQ%3D%3D?line=26'>27</a>\u001b[0m )\n",
      "\u001b[1;31mKeyError\u001b[0m: 'nyu2_data/data/nyu2_test.csv'"
     ]
    }
   ],
   "source": [
    "import zipfile\n",
    "import io\n",
    "import posixpath\n",
    "from PIL import Image\n",
    "import pandas as pd\n",
    "\n",
    "archive = \"./archive.zip\"\n",
    "base_path = \"nyu_data/data\"\n",
    "train_test = \"test\"\n",
    "\n",
    "\n",
    "with zipfile.ZipFile(archive, \"r\") as zip_ref:\n",
    "    with zip_ref.open(posixpath.join(base_path, \"nyu2_train.csv\")) as train_csv_file:\n",
    "        train_csv = pd.read_csv(io.TextIOWrapper(train_csv_file))\n",
    "        \n",
    "    with zip_ref.open(posixpath.join(base_path, \"nyu2_test.csv\")) as test_csv_file:\n",
    "        test_csv = pd.read_csv(io.TextIOWrapper(test_csv_file))    \n",
    "\n",
    "    data = {name: zip_ref.read(name) for name in zip_ref.namelist()}\n",
    "    \n",
    "    nyu_train = list(\n",
    "        (\n",
    "            row.split(\",\")\n",
    "            for row in (data[f\"nyu_data/data/nyu2_{train_test}.csv\"]).decode(\"utf-8\").split(\"\\n\")\n",
    "            if len(row) > 0\n",
    "        )\n",
    "    )"
   ]
  },
  {
   "cell_type": "code",
   "execution_count": null,
   "metadata": {},
   "outputs": [],
   "source": [
    "print(nyu_train)"
   ]
  }
 ],
 "metadata": {
  "kernelspec": {
   "display_name": "tensorboard",
   "language": "python",
   "name": "python3"
  },
  "language_info": {
   "codemirror_mode": {
    "name": "ipython",
    "version": 3
   },
   "file_extension": ".py",
   "mimetype": "text/x-python",
   "name": "python",
   "nbconvert_exporter": "python",
   "pygments_lexer": "ipython3",
   "version": "3.10.0"
  }
 },
 "nbformat": 4,
 "nbformat_minor": 2
}
